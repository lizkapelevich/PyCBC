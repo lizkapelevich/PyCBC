{
 "cells": [
  {
   "cell_type": "markdown",
   "id": "830d78e2",
   "metadata": {},
   "source": [
    "# PyCBC Practice\n",
    "Elizabeth Kapelevich"
   ]
  },
  {
   "cell_type": "code",
   "execution_count": 1,
   "id": "079d01f7",
   "metadata": {},
   "outputs": [
    {
     "ename": "ModuleNotFoundError",
     "evalue": "No module named 'pycbc'",
     "output_type": "error",
     "traceback": [
      "\u001b[1;31m---------------------------------------------------------------------------\u001b[0m",
      "\u001b[1;31mModuleNotFoundError\u001b[0m                       Traceback (most recent call last)",
      "\u001b[1;32m~\\AppData\\Local\\Temp/ipykernel_6772/2816081346.py\u001b[0m in \u001b[0;36m<module>\u001b[1;34m\u001b[0m\n\u001b[1;32m----> 1\u001b[1;33m \u001b[1;32mfrom\u001b[0m \u001b[0mpycbc\u001b[0m\u001b[1;33m.\u001b[0m\u001b[0mwaveform\u001b[0m \u001b[1;32mimport\u001b[0m \u001b[0mget_td_waveform\u001b[0m      \u001b[1;31m# imports a time domain waveform module\u001b[0m\u001b[1;33m\u001b[0m\u001b[1;33m\u001b[0m\u001b[0m\n\u001b[0m\u001b[0;32m      2\u001b[0m \u001b[1;32mimport\u001b[0m \u001b[0mpycbc\u001b[0m\u001b[1;33m.\u001b[0m\u001b[0mnoise\u001b[0m\u001b[1;33m\u001b[0m\u001b[1;33m\u001b[0m\u001b[0m\n\u001b[0;32m      3\u001b[0m \u001b[1;32mfrom\u001b[0m \u001b[0mpycbc\u001b[0m\u001b[1;33m.\u001b[0m\u001b[0mdetector\u001b[0m \u001b[1;32mimport\u001b[0m \u001b[0mDetector\u001b[0m\u001b[1;33m\u001b[0m\u001b[1;33m\u001b[0m\u001b[0m\n\u001b[0;32m      4\u001b[0m \u001b[1;32mimport\u001b[0m \u001b[0mmatplotlib\u001b[0m\u001b[1;33m.\u001b[0m\u001b[0mpyplot\u001b[0m \u001b[1;32mas\u001b[0m \u001b[0mplt\u001b[0m\u001b[1;33m\u001b[0m\u001b[1;33m\u001b[0m\u001b[0m\n\u001b[0;32m      5\u001b[0m \u001b[1;32mimport\u001b[0m \u001b[0mmatplotlib\u001b[0m\u001b[1;33m\u001b[0m\u001b[1;33m\u001b[0m\u001b[0m\n",
      "\u001b[1;31mModuleNotFoundError\u001b[0m: No module named 'pycbc'"
     ]
    }
   ],
   "source": [
    "from pycbc.waveform import get_td_waveform      # imports a time domain waveform module\n",
    "import pycbc.noise\n",
    "from pycbc.detector import Detector\n",
    "import matplotlib.pyplot as plt\n",
    "import matplotlib\n",
    "from pycbc.psd import aLIGOZeroDetHighPower\n",
    "import numpy as np"
   ]
  },
  {
   "cell_type": "code",
   "execution_count": null,
   "id": "480500a8",
   "metadata": {},
   "outputs": [],
   "source": [
    "time = 32                   # length of the signal\n",
    "rate = 4096                 # sampling rate of the signal (one second of data has 4096 points)\n",
    "f_low = 20                  # low-frequency threshold\n",
    "tlen = rate * time          # length of the wave array is the product of total duration and sampling rate"
   ]
  },
  {
   "cell_type": "code",
   "execution_count": null,
   "id": "f06e9cbc",
   "metadata": {},
   "outputs": [],
   "source": [
    "sp, sc = get_td_waveform(approximant=\"SpinTaylorT4\", mass1=5, mass2=5,\n",
    "                        f_lower=f_low, delta_t=1.0/rate, inclination=0, phase_order=7,\n",
    "                         amplitude_order=0, distance=75)"
   ]
  },
  {
   "cell_type": "code",
   "execution_count": null,
   "id": "ca0efefd",
   "metadata": {},
   "outputs": [],
   "source": [
    "sp.resize(tlen)\n",
    "sc.resize(tlen)"
   ]
  },
  {
   "cell_type": "code",
   "execution_count": null,
   "id": "b849fbc4",
   "metadata": {},
   "outputs": [],
   "source": [
    "plt.rcParams.update({'font.size': 18})\n",
    "plt.figure(figsize=(12, 7))\n",
    "plt.plot(sp.sample_times, sp)\n",
    "plt.xlabel(\"Time (sec)\")\n",
    "plt.ylabel(\"Strain\")\n",
    "plt.show()"
   ]
  },
  {
   "cell_type": "code",
   "execution_count": null,
   "id": "daa6c1b0",
   "metadata": {},
   "outputs": [],
   "source": [
    "delta_f = 1/time\n",
    "flen = int(tlen/2 + 1)"
   ]
  },
  {
   "cell_type": "code",
   "execution_count": null,
   "id": "5d78a0a4",
   "metadata": {},
   "outputs": [],
   "source": [
    "psd = aLIGOZeroDetHighPower(flen, delta_f, f_low)    # f_low is where it starts, length is flen, \n",
    "                                                     # and delta_f is frequency sampling rate"
   ]
  },
  {
   "cell_type": "code",
   "execution_count": null,
   "id": "547e16db",
   "metadata": {},
   "outputs": [],
   "source": [
    "np.sqrt(psd.at_frequency(25))     # sensitivity of LIGO at given frequency"
   ]
  },
  {
   "cell_type": "code",
   "execution_count": null,
   "id": "4cfc8b2e",
   "metadata": {},
   "outputs": [],
   "source": [
    "frequency = np.linspace(20, 2000, 10000)\n",
    "psd_vals = []\n",
    "for f in frequency:\n",
    "    psd_vals.append(psd.at_frequency(f))\n",
    "psd_vals = np.array(psd_vals)"
   ]
  },
  {
   "cell_type": "code",
   "execution_count": null,
   "id": "400a480e",
   "metadata": {},
   "outputs": [],
   "source": [
    "plt.loglog(frequency, psd_vals)  # makes both axes logs"
   ]
  },
  {
   "cell_type": "code",
   "execution_count": null,
   "id": "3640eb55",
   "metadata": {},
   "outputs": [],
   "source": [
    "# generating noise instance\n",
    "\n",
    "delta_t = 1/rate\n",
    "ts = pycbc.noise.noise_from_psd(tlen, delta_t, psd, seed = 100)          # pycbc noise module"
   ]
  },
  {
   "cell_type": "code",
   "execution_count": null,
   "id": "9970c73f",
   "metadata": {},
   "outputs": [],
   "source": [
    "plt.plot(ts.sample_times, ts)"
   ]
  },
  {
   "cell_type": "code",
   "execution_count": null,
   "id": "0adc2fe0",
   "metadata": {},
   "outputs": [],
   "source": [
    "# converting noise spectrum into frequency series\n",
    "\n",
    "fs = ts.to_frequencyseries()\n",
    "keep = fs.sample_frequencies.data > 20"
   ]
  },
  {
   "cell_type": "code",
   "execution_count": null,
   "id": "90a7adf4",
   "metadata": {},
   "outputs": [],
   "source": [
    "plt.rcParams.update({'font.size': 18})\n",
    "plt.figure(figsize=(12,7))\n",
    "plt.loglog((fs.sample_frequencies)[keep], np.abs(fs.data)[keep]**2, alpha=0.4, label=\"actual noise\")\n",
    "plt.loglog(frequency, psd_vals, label=\"psd from which noise is generated\")\n",
    "plt.legend()"
   ]
  },
  {
   "cell_type": "code",
   "execution_count": null,
   "id": "a39cea5b",
   "metadata": {},
   "outputs": [],
   "source": [
    "# embedding signal within noise\n",
    "\n",
    "ra = 1.2      # right ascension (radians)\n",
    "dec = 1.7     # declination\n",
    "psi = 0.1     # polarization angle\n",
    "t = 1343586137\n",
    "\n",
    "dh = Detector(\"H1\")\n",
    "dl = Detector(\"L1\")\n",
    "dv = Detector(\"V1\")"
   ]
  },
  {
   "cell_type": "code",
   "execution_count": null,
   "id": "5ec2b7e0",
   "metadata": {},
   "outputs": [],
   "source": [
    "fph, fch = dh.antenna_pattern(ra, dec, psi, t)\n",
    "fpl, fcl = dl.antenna_pattern(ra, dec, psi, t)\n",
    "ht = (fph * sp) + (fch * sc)  # created all orthogonal transofmrations\n",
    "hl = (fpl * sp) + (fcl * sc)"
   ]
  },
  {
   "cell_type": "code",
   "execution_count": null,
   "id": "3f53c5e8",
   "metadata": {},
   "outputs": [],
   "source": [
    "sp.start_time = sc.start_time = t"
   ]
  },
  {
   "cell_type": "code",
   "execution_count": null,
   "id": "1f029da8",
   "metadata": {},
   "outputs": [],
   "source": [
    "plt.rcParams.update({'font.size': 18})\n",
    "plt.figure(figsize=(12, 7))\n",
    "plt.plot(sp.sample_times, sp)   # set it to the start time of the wave, no longer relative to 0!\n",
    "plt.xlabel(\"Time (sec)\")\n",
    "plt.ylabel(\"Strain\")\n",
    "plt.show()"
   ]
  },
  {
   "cell_type": "code",
   "execution_count": null,
   "id": "8a903664",
   "metadata": {},
   "outputs": [],
   "source": [
    "# directly creating h(t)\n",
    "\n",
    "ht_hanford = dh.project_wave(sp, sc, ra, dec, psi)\n",
    "ht_livingston = dl.project_wave(sp, sc, ra, dec, psi)"
   ]
  },
  {
   "cell_type": "code",
   "execution_count": null,
   "id": "dc6c84fe",
   "metadata": {},
   "outputs": [],
   "source": [
    "ht_hanford.start_time"
   ]
  },
  {
   "cell_type": "code",
   "execution_count": null,
   "id": "22794ccb",
   "metadata": {},
   "outputs": [],
   "source": [
    "ht_livingston.start_time"
   ]
  },
  {
   "cell_type": "code",
   "execution_count": null,
   "id": "def2de37",
   "metadata": {},
   "outputs": [],
   "source": [
    "time_delay = ht_livingston.start_time - ht_hanford.start_time"
   ]
  },
  {
   "cell_type": "code",
   "execution_count": null,
   "id": "6c2c1890",
   "metadata": {},
   "outputs": [],
   "source": [
    "time_delay.gpsNanoSeconds * 1e-6"
   ]
  },
  {
   "cell_type": "code",
   "execution_count": null,
   "id": "3caf252c",
   "metadata": {},
   "outputs": [],
   "source": [
    "len(ht_hanford.data)"
   ]
  },
  {
   "cell_type": "code",
   "execution_count": null,
   "id": "ade0f1e8",
   "metadata": {},
   "outputs": [],
   "source": [
    "len(ts)"
   ]
  },
  {
   "cell_type": "code",
   "execution_count": null,
   "id": "bf44e997",
   "metadata": {},
   "outputs": [],
   "source": [
    "ht_hanford.resize(len(ts))"
   ]
  },
  {
   "cell_type": "code",
   "execution_count": null,
   "id": "0b87b326",
   "metadata": {},
   "outputs": [],
   "source": [
    "len(ht_hanford)"
   ]
  },
  {
   "cell_type": "code",
   "execution_count": null,
   "id": "4ab4187e",
   "metadata": {},
   "outputs": [],
   "source": [
    "ts.start_time = ht_hanford.start_time.gpsSeconds + ht_hanford.start_time.gpsNanoSeconds * 1e-9\n",
    "data_hanford = ht_hanford + ts"
   ]
  },
  {
   "cell_type": "code",
   "execution_count": null,
   "id": "0c09837a",
   "metadata": {},
   "outputs": [],
   "source": [
    "# creating template using same parameters\n",
    "\n",
    "hp, hc = get_td_waveform(approximant=\"SpinTaylorT4\", mass1=5, mass2=5,\n",
    "                        f_lower=f_low, delta_t=1.0/rate, inclination=0, phase_order=7,\n",
    "                         amplitude_order=0, distance=75)"
   ]
  },
  {
   "cell_type": "markdown",
   "id": "6e7a6862",
   "metadata": {},
   "source": [
    "Use command to create `sp` as given.\n",
    "Run a nested loop over masses between 1 to 10 solar masses and save the match between all of those points.\n",
    "It should calculate the match between those masses in the template and the signal. Only change the masses in the template.\n",
    "Plot a heat map. \n",
    "Chirp mass: $ m_c = \\frac{(m_1m_2)^{3/5}}{(m_1+m_2)^{1/5}} $"
   ]
  },
  {
   "cell_type": "markdown",
   "id": "71f38dbc",
   "metadata": {},
   "source": [
    "Figure out zero-padding."
   ]
  }
 ],
 "metadata": {
  "kernelspec": {
   "display_name": "research",
   "language": "python",
   "name": "research"
  },
  "language_info": {
   "codemirror_mode": {
    "name": "ipython",
    "version": 3
   },
   "file_extension": ".py",
   "mimetype": "text/x-python",
   "name": "python",
   "nbconvert_exporter": "python",
   "pygments_lexer": "ipython3",
   "version": "3.8.11"
  }
 },
 "nbformat": 4,
 "nbformat_minor": 5
}
