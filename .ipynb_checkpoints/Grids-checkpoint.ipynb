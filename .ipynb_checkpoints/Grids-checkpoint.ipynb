{
 "cells": [
  {
   "cell_type": "markdown",
   "id": "f86ef8b0",
   "metadata": {},
   "source": [
    "## Instructions\n",
    "- Write a code to create a grid of masses $(m_1, m_2)$\n",
    "- Supply dimensionality of grid and amount of points\n",
    "- Write code so it takes as input $m_1$ and $m_2$ of source/event\n",
    "- Construct grid around mass pairs, central point will be original point\n",
    "- Loop over all masses within grid\n",
    "- Calculate match and construct a heat map"
   ]
  },
  {
   "cell_type": "code",
   "execution_count": null,
   "id": "e001c62a",
   "metadata": {},
   "outputs": [],
   "source": []
  }
 ],
 "metadata": {
  "kernelspec": {
   "display_name": "Research",
   "language": "python",
   "name": "research"
  },
  "language_info": {
   "codemirror_mode": {
    "name": "ipython",
    "version": 3
   },
   "file_extension": ".py",
   "mimetype": "text/x-python",
   "name": "python",
   "nbconvert_exporter": "python",
   "pygments_lexer": "ipython3",
   "version": "3.9.7"
  }
 },
 "nbformat": 4,
 "nbformat_minor": 5
}
