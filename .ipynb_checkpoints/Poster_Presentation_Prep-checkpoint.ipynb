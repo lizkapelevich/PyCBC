{
 "cells": [
  {
   "cell_type": "markdown",
   "id": "7ec62b30",
   "metadata": {},
   "source": [
    "# CSAM Poster Presentation\n",
    "Elizabeth Kapelevich"
   ]
  },
  {
   "cell_type": "code",
   "execution_count": 1,
   "id": "8c26bb2b",
   "metadata": {},
   "outputs": [
    {
     "ename": "ModuleNotFoundError",
     "evalue": "No module named 'pycbc'",
     "output_type": "error",
     "traceback": [
      "\u001b[1;31m---------------------------------------------------------------------------\u001b[0m",
      "\u001b[1;31mModuleNotFoundError\u001b[0m                       Traceback (most recent call last)",
      "\u001b[1;32m~\\AppData\\Local\\Temp/ipykernel_21700/1163721492.py\u001b[0m in \u001b[0;36m<module>\u001b[1;34m\u001b[0m\n\u001b[0;32m      2\u001b[0m \u001b[1;32mimport\u001b[0m \u001b[0mmatplotlib\u001b[0m                              \u001b[1;31m# plotting package\u001b[0m\u001b[1;33m\u001b[0m\u001b[1;33m\u001b[0m\u001b[0m\n\u001b[0;32m      3\u001b[0m \u001b[1;32mimport\u001b[0m \u001b[0mmatplotlib\u001b[0m\u001b[1;33m.\u001b[0m\u001b[0mpyplot\u001b[0m \u001b[1;32mas\u001b[0m \u001b[0mplt\u001b[0m                \u001b[1;31m# plotting library\u001b[0m\u001b[1;33m\u001b[0m\u001b[1;33m\u001b[0m\u001b[0m\n\u001b[1;32m----> 4\u001b[1;33m \u001b[1;32mimport\u001b[0m \u001b[0mpycbc\u001b[0m\u001b[1;33m.\u001b[0m\u001b[0mnoise\u001b[0m                             \u001b[1;31m# noise package\u001b[0m\u001b[1;33m\u001b[0m\u001b[1;33m\u001b[0m\u001b[0m\n\u001b[0m\u001b[0;32m      5\u001b[0m \u001b[1;32mfrom\u001b[0m \u001b[0mpycbc\u001b[0m\u001b[1;33m.\u001b[0m\u001b[0mwaveform\u001b[0m \u001b[1;32mimport\u001b[0m \u001b[0mget_td_waveform\u001b[0m     \u001b[1;31m# time domain waveform module\u001b[0m\u001b[1;33m\u001b[0m\u001b[1;33m\u001b[0m\u001b[0m\n\u001b[0;32m      6\u001b[0m \u001b[1;32mfrom\u001b[0m \u001b[0mpycbc\u001b[0m\u001b[1;33m.\u001b[0m\u001b[0mpsd\u001b[0m \u001b[1;32mimport\u001b[0m \u001b[0maLIGOZeroDetHighPower\u001b[0m    \u001b[1;31m# power spectral density from true LIGO data\u001b[0m\u001b[1;33m\u001b[0m\u001b[1;33m\u001b[0m\u001b[0m\n",
      "\u001b[1;31mModuleNotFoundError\u001b[0m: No module named 'pycbc'"
     ]
    }
   ],
   "source": [
    "import numpy as np                             # python math functions\n",
    "import matplotlib                              # plotting package\n",
    "import matplotlib.pyplot as plt                # plotting library\n",
    "import pycbc.noise                             # noise package\n",
    "from pycbc.waveform import get_td_waveform     # time domain waveform module\n",
    "from pycbc.psd import aLIGOZeroDetHighPower    # power spectral density from true LIGO data\n",
    "from pycbc.detector import Detector            # hanford & livingston detector data"
   ]
  },
  {
   "cell_type": "markdown",
   "id": "5ed2aa88",
   "metadata": {},
   "source": [
    "#### Steps\n",
    "1. Create a signal from true gravitaitonal wave data using waveforms from PyCBC\n",
    "2. Generate some random noise that was recorded from LIGO in PyCBC\n",
    "3. Embed the signal with the random noise and hide the signal well enough so it is not visible just from looking at it\n",
    "4. Figure out how to create multiple templates to run through the combined data to search for signal\n",
    "5. Compute integral at all points of time series and plot cross-correlation to visualize where signal is found"
   ]
  },
  {
   "cell_type": "markdown",
   "id": "562a0062",
   "metadata": {},
   "source": [
    "### Creating a signal:"
   ]
  },
  {
   "cell_type": "code",
   "execution_count": null,
   "id": "5a5d3a4e",
   "metadata": {},
   "outputs": [],
   "source": []
  }
 ],
 "metadata": {
  "kernelspec": {
   "display_name": "research",
   "language": "python",
   "name": "research"
  },
  "language_info": {
   "codemirror_mode": {
    "name": "ipython",
    "version": 3
   },
   "file_extension": ".py",
   "mimetype": "text/x-python",
   "name": "python",
   "nbconvert_exporter": "python",
   "pygments_lexer": "ipython3",
   "version": "3.8.11"
  }
 },
 "nbformat": 4,
 "nbformat_minor": 5
}
