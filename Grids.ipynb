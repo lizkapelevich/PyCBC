{
 "cells": [
  {
   "cell_type": "markdown",
   "id": "f86ef8b0",
   "metadata": {},
   "source": [
    "## Instructions\n",
    "- Write a code to create a grid of masses $(m_1, m_2)$ from 1 solar mass to 2 solar mass\n",
    "- Supply dimensionality of grid and amount of points\n",
    "- Write code so it takes as input $m_1$ and $m_2$ of source/event\n",
    "- Construct grid around mass pairs, central point will be original point\n",
    "- Loop over all masses within grid to create all possible combinations\n",
    "- Calculate match and construct a heat map"
   ]
  },
  {
   "cell_type": "code",
   "execution_count": 31,
   "id": "e001c62a",
   "metadata": {},
   "outputs": [],
   "source": [
    "from pycbc.filter import matchedfilter\n",
    "from pycbc.waveform import get_td_waveform\n",
    "from pycbc.psd import aLIGOZeroDetHighPower\n",
    "from astropy import constants as c\n",
    "import numpy as np\n",
    "import matplotlib.pyplot as plt"
   ]
  },
  {
   "cell_type": "code",
   "execution_count": 14,
   "id": "1f3970eb",
   "metadata": {},
   "outputs": [],
   "source": [
    "time = 32                   # length of the signal\n",
    "rate = 4096                 # sampling rate of the signal (one second of data has 4096 points)\n",
    "f_low = 20                  # low-frequency threshold\n",
    "tlen = rate * time          # length of the wave array is the product of total duration and sampling rate"
   ]
  },
  {
   "cell_type": "code",
   "execution_count": 15,
   "id": "b6c25d85",
   "metadata": {},
   "outputs": [],
   "source": [
    "hp, hc = get_td_waveform(approximant=\"SpinTaylorT4\", mass1=5, mass2=5,\n",
    "        f_lower=f_low, delta_t=1.0/rate, inclination=0, phase_order=7, amplitude_order=0, distance=75)"
   ]
  },
  {
   "cell_type": "code",
   "execution_count": 16,
   "id": "dbb7004d",
   "metadata": {},
   "outputs": [],
   "source": [
    "hp.resize(tlen)\n",
    "hc.resize(tlen)"
   ]
  },
  {
   "cell_type": "code",
   "execution_count": 17,
   "id": "b43b51fa",
   "metadata": {},
   "outputs": [],
   "source": [
    "delta_f = 1/time\n",
    "flen = int(tlen/2 + 1)"
   ]
  },
  {
   "cell_type": "code",
   "execution_count": 18,
   "id": "91d04a92",
   "metadata": {},
   "outputs": [],
   "source": [
    "psd = aLIGOZeroDetHighPower(flen, delta_f, f_low)"
   ]
  },
  {
   "cell_type": "code",
   "execution_count": 19,
   "id": "7b03ea00",
   "metadata": {},
   "outputs": [],
   "source": [
    "match, index = matchedfilter.match(hp, hp, psd=psd, low_frequency_cutoff=20, high_frequency_cutoff=None, \n",
    "                              v1_norm=None, v2_norm=None, subsample_interpolation=False, return_phase=False)"
   ]
  },
  {
   "cell_type": "code",
   "execution_count": 20,
   "id": "d82cfa54",
   "metadata": {},
   "outputs": [],
   "source": [
    "mass1 = np.linspace(1, 2, 21)  # units in solar mass\n",
    "mass2 = np.linspace(1, 2, 21)  # units in solar mass"
   ]
  },
  {
   "cell_type": "code",
   "execution_count": 29,
   "id": "d642f32f",
   "metadata": {},
   "outputs": [],
   "source": [
    "# create the match and then the heatmap\n",
    "\n",
    "matfilt = []\n",
    "\n",
    "for m1 in mass1:\n",
    "    for m2 in mass2:\n",
    "        hp, hc = get_td_waveform(approximant=\"SpinTaylorT4\", mass1=m1, mass2=m2,\n",
    "                f_lower=f_low, delta_t=1.0/rate, inclination=0, phase_order=7, amplitude_order=0, distance=75)\n",
    "        hp.resize(tlen)\n",
    "        hc.resize(tlen)\n",
    "        delta_f = 1/time\n",
    "        flen = int(tlen/2 + 1)\n",
    "        psd = aLIGOZeroDetHighPower(flen, delta_f, f_low)\n",
    "        matfilt.append(matchedfilter.match(hp, hc, psd=psd, low_frequency_cutoff=20, \n",
    "                    high_frequency_cutoff=None, v1_norm=None, v2_norm=None, subsample_interpolation=False, \n",
    "                    return_phase=False)) # appending result (match, index) to new array matfilt\n",
    "        "
   ]
  },
  {
   "cell_type": "code",
   "execution_count": 32,
   "id": "c04198d5",
   "metadata": {},
   "outputs": [
    {
     "data": {
      "text/plain": [
       "<matplotlib.collections.QuadMesh at 0x7f8af06fc8b0>"
      ]
     },
     "execution_count": 32,
     "metadata": {},
     "output_type": "execute_result"
    },
    {
     "data": {
      "image/png": "[encoded data removed]",
      "text/plain": [
       "<Figure size 432x288 with 1 Axes>"
      ]
     },
     "metadata": {
      "needs_background": "light"
     },
     "output_type": "display_data"
    }
   ],
   "source": [
    "plt.pcolormesh(matfilt)"
   ]
  }
 ],
 "metadata": {
  "kernelspec": {
   "display_name": "test",
   "language": "python",
   "name": "test"
  },
  "language_info": {
   "codemirror_mode": {
    "name": "ipython",
    "version": 3
   },
   "file_extension": ".py",
   "mimetype": "text/x-python",
   "name": "python",
   "nbconvert_exporter": "python",
   "pygments_lexer": "ipython3",
   "version": "3.10.8"
  }
 },
 "nbformat": 4,
 "nbformat_minor": 5
}
